{
  "nbformat": 4,
  "nbformat_minor": 0,
  "metadata": {
    "colab": {
      "name": "Trabalho Extra ",
      "version": "0.3.2",
      "provenance": []
    },
    "kernelspec": {
      "name": "python3",
      "display_name": "Python 3"
    }
  },
  "cells": [
    {
      "cell_type": "markdown",
      "metadata": {
        "id": "4blbUF2kYSSR",
        "colab_type": "text"
      },
      "source": [
        "Alunos: Pedro Cardoso Carvalho and Pedro Avelino Ferreira Nogueira "
      ]
    },
    {
      "cell_type": "code",
      "metadata": {
        "id": "NvMaBem5EPyl",
        "colab_type": "code",
        "colab": {}
      },
      "source": [
        "import pandas as pd\n",
        "uf2019 = pd.read_csv(\"discentes-2019.csv\",sep=\";\")\n",
        "uf2018 = pd.read_csv(\"discentes-2018.csv\",sep=\";\")\n",
        "uf2017 = pd.read_csv(\"discentes-2017.csv\",sep=\";\")\n",
        "uf2016 = pd.read_csv(\"discentes-2016.csv\",sep=\";\")\n",
        "uf2015 = pd.read_csv(\"discentes-2015.csv\",sep=\";\")\n",
        "uf2014 = pd.read_csv(\"discentes-2014.csv\",sep=\";\")\n",
        "uf2013 = pd.read_csv(\"discentes-2013.csv\",sep=\";\")\n",
        "uf2012 = pd.read_csv(\"discentes-2012.csv\",sep=\";\")\n",
        "uf2011 = pd.read_csv(\"discentes-2011.csv\",sep=\";\")\n",
        "uf2010 = pd.read_csv(\"discentes-2010.csv\",sep=\";\")\n",
        "uf2009 = pd.read_csv(\"discentes-2009.csv\",sep=\";\")"
      ],
      "execution_count": 0,
      "outputs": []
    },
    {
      "cell_type": "code",
      "metadata": {
        "id": "FM-tsEahPEuC",
        "colab_type": "code",
        "colab": {}
      },
      "source": [
        "discentes = pd.concat([uf2019,uf2018,uf2017,uf2016,uf2015,uf2014,uf2013,uf2012,uf2011,uf2010,uf2009], axis = 0)"
      ],
      "execution_count": 0,
      "outputs": []
    },
    {
      "cell_type": "code",
      "metadata": {
        "id": "3Dc9ZX5-PlQb",
        "colab_type": "code",
        "colab": {}
      },
      "source": [
        "pos = discentes.loc[(discentes[\"nivel_ensino\"]==\"MESTRADO\") | (discentes[\"nivel_ensino\"]==\"DOUTORADO\")]"
      ],
      "execution_count": 0,
      "outputs": []
    },
    {
      "cell_type": "code",
      "metadata": {
        "id": "Ge5qJFtJSA7I",
        "colab_type": "code",
        "colab": {}
      },
      "source": [
        "graduacao = discentes.loc[(discentes[\"nivel_ensino\"]==\"GRADUAÇÃO\")]"
      ],
      "execution_count": 0,
      "outputs": []
    },
    {
      "cell_type": "code",
      "metadata": {
        "id": "nOUtSNVTWA7S",
        "colab_type": "code",
        "colab": {}
      },
      "source": [
        "data = pd.concat([pos,graduacao], axis=0)"
      ],
      "execution_count": 0,
      "outputs": []
    },
    {
      "cell_type": "code",
      "metadata": {
        "id": "F87O23_1Wc-U",
        "colab_type": "code",
        "outputId": "6ec5854b-4313-4ce8-b14d-58250983fad9",
        "colab": {
          "base_uri": "https://localhost:8080/",
          "height": 301
        }
      },
      "source": [
        "import seaborn as sns\n",
        "mulheres_ufrn = data[data['sexo'] == 'F']\n",
        "sns.countplot(data= mulheres_ufrn,x = 'ano_ingresso')"
      ],
      "execution_count": 0,
      "outputs": [
        {
          "output_type": "execute_result",
          "data": {
            "text/plain": [
              "<matplotlib.axes._subplots.AxesSubplot at 0x7f9e99e49f28>"
            ]
          },
          "metadata": {
            "tags": []
          },
          "execution_count": 37
        },
        {
          "output_type": "display_data",
          "data": {
            "image/png": "[encoded data removed]",
            "text/plain": [
              "<Figure size 432x288 with 1 Axes>"
            ]
          },
          "metadata": {
            "tags": []
          }
        }
      ]
    },
    {
      "cell_type": "markdown",
      "metadata": {
        "id": "Hd8OyA_cYntZ",
        "colab_type": "text"
      },
      "source": [
        "Visualizando so a entradas de mulheres da UFRN podemos perceber a variação entre 4000-6000. Onde não temos um crescimento ou decrecimento e sim uma media 'constante'."
      ]
    },
    {
      "cell_type": "code",
      "metadata": {
        "id": "MB9KXL_fWt1f",
        "colab_type": "code",
        "outputId": "49cdfadc-84b3-48c1-be87-1991242d10e7",
        "colab": {
          "base_uri": "https://localhost:8080/",
          "height": 301
        }
      },
      "source": [
        "sns.countplot(data= data,x = 'ano_ingresso', hue='sexo')"
      ],
      "execution_count": 0,
      "outputs": [
        {
          "output_type": "execute_result",
          "data": {
            "text/plain": [
              "<matplotlib.axes._subplots.AxesSubplot at 0x7f9e9758cbe0>"
            ]
          },
          "metadata": {
            "tags": []
          },
          "execution_count": 39
        },
        {
          "output_type": "display_data",
          "data": {
            "image/png": "[encoded data removed]",
            "text/plain": [
              "<Figure size 432x288 with 1 Axes>"
            ]
          },
          "metadata": {
            "tags": []
          }
        }
      ]
    },
    {
      "cell_type": "markdown",
      "metadata": {
        "id": "myIU6ermZ2Ge",
        "colab_type": "text"
      },
      "source": [
        "Já observando em comparação  com outro sexo vemos inicialmente uma igualdade mas que posteriormente(a partir de 2015) demonstra um crescimento da entrada do gênero masculino em comparação com o feminino."
      ]
    },
    {
      "cell_type": "code",
      "metadata": {
        "id": "U3B4NVHPW5dd",
        "colab_type": "code",
        "colab": {}
      },
      "source": [
        "minoria = data[(data['raca'] == 'Negro') | (data['raca'] == 'Remanescente de quilombo')|(data['raca'] == 'Indígeno')|(data['raca'] == 'Pardo')]"
      ],
      "execution_count": 0,
      "outputs": []
    },
    {
      "cell_type": "code",
      "metadata": {
        "id": "tH89820JX1ri",
        "colab_type": "code",
        "outputId": "064f466b-2362-4f13-e7c2-f949c46396d5",
        "colab": {
          "base_uri": "https://localhost:8080/",
          "height": 301
        }
      },
      "source": [
        "sns.countplot(data= minoria,x = 'ano_ingresso', hue='raca')"
      ],
      "execution_count": 0,
      "outputs": [
        {
          "output_type": "execute_result",
          "data": {
            "text/plain": [
              "<matplotlib.axes._subplots.AxesSubplot at 0x7f9e9735c860>"
            ]
          },
          "metadata": {
            "tags": []
          },
          "execution_count": 46
        },
        {
          "output_type": "display_data",
          "data": {
            "image/png": "[encoded data removed]",
            "text/plain": [
              "<Figure size 432x288 with 1 Axes>"
            ]
          },
          "metadata": {
            "tags": []
          }
        }
      ]
    },
    {
      "cell_type": "markdown",
      "metadata": {
        "id": "jxCdvYhRaAi3",
        "colab_type": "text"
      },
      "source": [
        "  Em etnias, primeiramente vamos analisar as que são classificadas como minorias. Nelas podemos observar um leve crescimento no na entrada de pardos, alem também de sua dominancia em relação as demais etnias. Nos outros vemos uma valor medio constante tendo pequenas variações."
      ]
    },
    {
      "cell_type": "code",
      "metadata": {
        "id": "cxYhEt2nWx0j",
        "colab_type": "code",
        "outputId": "e5b37578-287a-434f-d621-88906386684b",
        "colab": {
          "base_uri": "https://localhost:8080/",
          "height": 301
        }
      },
      "source": [
        "sns.countplot(data= data,x = 'ano_ingresso', hue='raca')"
      ],
      "execution_count": 0,
      "outputs": [
        {
          "output_type": "execute_result",
          "data": {
            "text/plain": [
              "<matplotlib.axes._subplots.AxesSubplot at 0x7f9e9751ccf8>"
            ]
          },
          "metadata": {
            "tags": []
          },
          "execution_count": 40
        },
        {
          "output_type": "display_data",
          "data": {
            "image/png": "[encoded data removed]",
            "text/plain": [
              "<Figure size 432x288 with 1 Axes>"
            ]
          },
          "metadata": {
            "tags": []
          }
        }
      ]
    },
    {
      "cell_type": "markdown",
      "metadata": {
        "id": "44dDrn4WauKD",
        "colab_type": "text"
      },
      "source": [
        "Em comparação geral das etinias, pode-se detectar uma predominancia branca inicialmente"
      ]
    }
  ]
}